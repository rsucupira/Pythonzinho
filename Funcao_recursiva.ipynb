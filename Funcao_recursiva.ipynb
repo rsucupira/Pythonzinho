{
  "nbformat": 4,
  "nbformat_minor": 0,
  "metadata": {
    "colab": {
      "name": "Funcao_recursiva.ipynb",
      "provenance": []
    },
    "kernelspec": {
      "name": "python3",
      "display_name": "Python 3"
    }
  },
  "cells": [
    {
      "cell_type": "code",
      "metadata": {
        "id": "mypQxZuh-AW4"
      },
      "source": [
        "def minha_funcao(input):\n",
        "  print('ola mundo, o input é:',input)"
      ],
      "execution_count": 3,
      "outputs": []
    },
    {
      "cell_type": "code",
      "metadata": {
        "id": "hebQxFAb-ZT-",
        "outputId": "64df09f3-b011-4e69-ee30-d047754fffd9",
        "colab": {
          "base_uri": "https://localhost:8080/",
          "height": 34
        }
      },
      "source": [
        "minha_funcao('Rodrigo')"
      ],
      "execution_count": 6,
      "outputs": [
        {
          "output_type": "stream",
          "text": [
            "ola mundo, o input é: Rodrigo\n"
          ],
          "name": "stdout"
        }
      ]
    },
    {
      "cell_type": "code",
      "metadata": {
        "id": "zIkHvqWqAN7a",
        "outputId": "24a5179f-31dd-46d5-aeb3-687bd405cfd6",
        "colab": {
          "base_uri": "https://localhost:8080/",
          "height": 68
        }
      },
      "source": [
        "cont = 0 \n",
        "print('cont:',cont)\n",
        "cont = cont + 1\n",
        "print('cont:',cont)\n",
        "cont = cont + 1\n",
        "print('cont:',cont)\n",
        "\n"
      ],
      "execution_count": 11,
      "outputs": [
        {
          "output_type": "stream",
          "text": [
            "cont: 0\n",
            "cont: 1\n",
            "cont: 2\n"
          ],
          "name": "stdout"
        }
      ]
    },
    {
      "cell_type": "code",
      "metadata": {
        "id": "m9gIE_g8-0BY"
      },
      "source": [
        "def contagem(lista):\n",
        "  # esta é uma funcao que conta o numero de elementos da lista\n",
        "  cont = 0\n",
        "  for i in lista:\n",
        "    cont = cont + 1\n",
        "  return cont"
      ],
      "execution_count": 7,
      "outputs": []
    },
    {
      "cell_type": "code",
      "metadata": {
        "id": "KOwRaHJZ_igU",
        "outputId": "135f893f-0158-496d-fe4b-16463bafc01a",
        "colab": {
          "base_uri": "https://localhost:8080/",
          "height": 34
        }
      },
      "source": [
        "lista_01 = [1 , 2 , 3 , 4 , 5]\n",
        "contador = contagem(lista_01)\n",
        "print('contador:',contador)"
      ],
      "execution_count": 9,
      "outputs": [
        {
          "output_type": "stream",
          "text": [
            "contador: 5\n"
          ],
          "name": "stdout"
        }
      ]
    },
    {
      "cell_type": "code",
      "metadata": {
        "id": "Z9iRBEOoCRI4",
        "outputId": "c10a689b-2a73-4040-fb09-89104d8e5fe2",
        "colab": {
          "base_uri": "https://localhost:8080/",
          "height": 102
        }
      },
      "source": [
        "for i in lista_01:\n",
        "  print(i)"
      ],
      "execution_count": 12,
      "outputs": [
        {
          "output_type": "stream",
          "text": [
            "1\n",
            "2\n",
            "3\n",
            "4\n",
            "5\n"
          ],
          "name": "stdout"
        }
      ]
    },
    {
      "cell_type": "code",
      "metadata": {
        "id": "u5vbnZ6e_5uc"
      },
      "source": [
        "def media(lista):\n",
        "  soma = 0\n",
        "  cont = 0\n",
        "  for i in lista:\n",
        "    soma = soma + i\n",
        "    cont = cont + 1\n",
        "    print('cont:',cont,'soma:',soma)\n",
        "  media_ = soma/cont\n",
        "  return media_\n"
      ],
      "execution_count": 16,
      "outputs": []
    },
    {
      "cell_type": "code",
      "metadata": {
        "id": "LzWS3FZYCsqU",
        "outputId": "a8182a74-62e9-4d4e-98fb-2b1faf643338",
        "colab": {
          "base_uri": "https://localhost:8080/",
          "height": 102
        }
      },
      "source": [
        "media([8, 10 , 7 , 3])"
      ],
      "execution_count": 18,
      "outputs": [
        {
          "output_type": "stream",
          "text": [
            "cont: 1 soma: 8\n",
            "cont: 2 soma: 18\n",
            "cont: 3 soma: 25\n",
            "cont: 4 soma: 28\n"
          ],
          "name": "stdout"
        },
        {
          "output_type": "execute_result",
          "data": {
            "text/plain": [
              "7.0"
            ]
          },
          "metadata": {
            "tags": []
          },
          "execution_count": 18
        }
      ]
    },
    {
      "cell_type": "code",
      "metadata": {
        "id": "jOfvqQioDYFM"
      },
      "source": [
        "def funcao_recursiva(N):\n",
        "  if (N != 1):\n",
        "    print('dentro',N)\n",
        "    funcao_recursiva(N - 1)\n",
        "  print('fora',N)"
      ],
      "execution_count": 31,
      "outputs": []
    },
    {
      "cell_type": "code",
      "metadata": {
        "id": "PRAlWbwvDrX7",
        "outputId": "221b68bb-c563-4b9f-d277-09bfa756b413",
        "colab": {
          "base_uri": "https://localhost:8080/",
          "height": 357
        }
      },
      "source": [
        "print(\"Testando a função recursiva:\")\n",
        "funcao_recursiva(10)"
      ],
      "execution_count": 32,
      "outputs": [
        {
          "output_type": "stream",
          "text": [
            "Testando a função recursiva:\n",
            "dentro 10\n",
            "dentro 9\n",
            "dentro 8\n",
            "dentro 7\n",
            "dentro 6\n",
            "dentro 5\n",
            "dentro 4\n",
            "dentro 3\n",
            "dentro 2\n",
            "fora 1\n",
            "fora 2\n",
            "fora 3\n",
            "fora 4\n",
            "fora 5\n",
            "fora 6\n",
            "fora 7\n",
            "fora 8\n",
            "fora 9\n",
            "fora 10\n"
          ],
          "name": "stdout"
        }
      ]
    },
    {
      "cell_type": "code",
      "metadata": {
        "id": "QyJWW6KKGcfX"
      },
      "source": [
        "0 1 1 2 3 5 8 13 21"
      ],
      "execution_count": null,
      "outputs": []
    },
    {
      "cell_type": "code",
      "metadata": {
        "id": "MI84I5oJGzUj",
        "outputId": "2a5ca87a-f54f-4a51-8a11-fafef077f23d",
        "colab": {
          "base_uri": "https://localhost:8080/",
          "height": 187
        }
      },
      "source": [
        "def tri_recursion(k):\n",
        "  if(k > 0):\n",
        "    result = k + tri_recursion(k - 1)\n",
        "    print(result)\n",
        "  else:\n",
        "    result = 0\n",
        "  return result\n",
        "\n",
        "print(\"\\n\\nRecursion Example Results\")\n"
      ],
      "execution_count": 33,
      "outputs": [
        {
          "output_type": "stream",
          "text": [
            "\n",
            "\n",
            "Recursion Example Results\n",
            "1\n",
            "3\n",
            "6\n",
            "10\n",
            "15\n",
            "21\n"
          ],
          "name": "stdout"
        },
        {
          "output_type": "execute_result",
          "data": {
            "text/plain": [
              "21"
            ]
          },
          "metadata": {
            "tags": []
          },
          "execution_count": 33
        }
      ]
    },
    {
      "cell_type": "code",
      "metadata": {
        "id": "3vGuPi7AG2k4",
        "outputId": "15cc5876-adab-4e8e-9b35-cd2dfac8b3c9",
        "colab": {
          "base_uri": "https://localhost:8080/",
          "height": 136
        }
      },
      "source": [
        "tri_recursion(6)"
      ],
      "execution_count": 36,
      "outputs": [
        {
          "output_type": "stream",
          "text": [
            "1\n",
            "3\n",
            "6\n",
            "10\n",
            "15\n",
            "21\n"
          ],
          "name": "stdout"
        },
        {
          "output_type": "execute_result",
          "data": {
            "text/plain": [
              "21"
            ]
          },
          "metadata": {
            "tags": []
          },
          "execution_count": 36
        }
      ]
    }
  ]
}