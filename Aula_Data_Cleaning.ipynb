{
 "cells": [
  {
   "cell_type": "markdown",
   "metadata": {},
   "source": [
    "## Data Cleaning\n",
    "### Numpy\n",
    "#### Filter "
   ]
  },
  {
   "cell_type": "code",
   "execution_count": 1,
   "metadata": {},
   "outputs": [],
   "source": [
    "import numpy as np"
   ]
  },
  {
   "cell_type": "code",
   "execution_count": 2,
   "metadata": {},
   "outputs": [
    {
     "name": "stdout",
     "output_type": "stream",
     "text": [
      "[41 43]\n"
     ]
    }
   ],
   "source": [
    "arr = np.array([41, 42, 43, 44])\n",
    "\n",
    "x = [True, False, True, False]\n",
    "\n",
    "newarr = arr[x]\n",
    "\n",
    "print(newarr)"
   ]
  },
  {
   "cell_type": "code",
   "execution_count": 3,
   "metadata": {},
   "outputs": [
    {
     "name": "stdout",
     "output_type": "stream",
     "text": [
      "[False, False, True, True]\n",
      "[43 44]\n"
     ]
    }
   ],
   "source": [
    "arr = np.array([41, 42, 43, 44])\n",
    "\n",
    "# Create an empty list\n",
    "filter_arr = []\n",
    "\n",
    "# go through each element in arr\n",
    "for element in arr:\n",
    "    # if the element is higher than 42, set the value to True, otherwise False:\n",
    "    if element > 42:\n",
    "        filter_arr.append(True)\n",
    "    else:\n",
    "        filter_arr.append(False)\n",
    "\n",
    "newarr = arr[filter_arr]\n",
    "\n",
    "print(filter_arr)\n",
    "print(newarr)"
   ]
  },
  {
   "cell_type": "code",
   "execution_count": 4,
   "metadata": {},
   "outputs": [
    {
     "name": "stdout",
     "output_type": "stream",
     "text": [
      "[False False  True  True]\n",
      "[43 44]\n"
     ]
    }
   ],
   "source": [
    "arr = np.array([41, 42, 43, 44])\n",
    "\n",
    "filter_arr = arr > 42\n",
    "\n",
    "newarr = arr[filter_arr]\n",
    "\n",
    "print(filter_arr)\n",
    "print(newarr)"
   ]
  },
  {
   "cell_type": "code",
   "execution_count": 5,
   "metadata": {},
   "outputs": [
    {
     "name": "stdout",
     "output_type": "stream",
     "text": [
      "[False  True False  True False  True False]\n",
      "[2 4 6]\n"
     ]
    }
   ],
   "source": [
    "arr = np.array([1, 2, 3, 4, 5, 6, 7])\n",
    "\n",
    "filter_arr = arr % 2 == 0\n",
    "\n",
    "newarr = arr[filter_arr]\n",
    "\n",
    "print(filter_arr)\n",
    "print(newarr)"
   ]
  },
  {
   "cell_type": "markdown",
   "metadata": {},
   "source": [
    "### Pandas Filtragem"
   ]
  },
  {
   "cell_type": "code",
   "execution_count": 6,
   "metadata": {},
   "outputs": [],
   "source": [
    "import pandas as pd\n"
   ]
  },
  {
   "cell_type": "code",
   "execution_count": 18,
   "metadata": {},
   "outputs": [
    {
     "data": {
      "text/html": [
       "<div>\n",
       "<style scoped>\n",
       "    .dataframe tbody tr th:only-of-type {\n",
       "        vertical-align: middle;\n",
       "    }\n",
       "\n",
       "    .dataframe tbody tr th {\n",
       "        vertical-align: top;\n",
       "    }\n",
       "\n",
       "    .dataframe thead th {\n",
       "        text-align: right;\n",
       "    }\n",
       "</style>\n",
       "<table border=\"1\" class=\"dataframe\">\n",
       "  <thead>\n",
       "    <tr style=\"text-align: right;\">\n",
       "      <th></th>\n",
       "      <th>Date</th>\n",
       "      <th>Open</th>\n",
       "      <th>High</th>\n",
       "      <th>Low</th>\n",
       "      <th>Close</th>\n",
       "      <th>Adj Close</th>\n",
       "      <th>Volume</th>\n",
       "    </tr>\n",
       "  </thead>\n",
       "  <tbody>\n",
       "    <tr>\n",
       "      <th>0</th>\n",
       "      <td>2019-03-04</td>\n",
       "      <td>39.700001</td>\n",
       "      <td>41.500000</td>\n",
       "      <td>39.029999</td>\n",
       "      <td>39.250000</td>\n",
       "      <td>37.666031</td>\n",
       "      <td>7524500</td>\n",
       "    </tr>\n",
       "    <tr>\n",
       "      <th>1</th>\n",
       "      <td>2019-03-05</td>\n",
       "      <td>39.279999</td>\n",
       "      <td>39.419998</td>\n",
       "      <td>39.020000</td>\n",
       "      <td>39.279999</td>\n",
       "      <td>37.694820</td>\n",
       "      <td>4866200</td>\n",
       "    </tr>\n",
       "    <tr>\n",
       "      <th>2</th>\n",
       "      <td>2019-03-06</td>\n",
       "      <td>39.240002</td>\n",
       "      <td>39.290001</td>\n",
       "      <td>38.490002</td>\n",
       "      <td>38.669998</td>\n",
       "      <td>37.109436</td>\n",
       "      <td>9413300</td>\n",
       "    </tr>\n",
       "    <tr>\n",
       "      <th>3</th>\n",
       "      <td>2019-03-07</td>\n",
       "      <td>38.099998</td>\n",
       "      <td>38.340000</td>\n",
       "      <td>37.639999</td>\n",
       "      <td>38.040001</td>\n",
       "      <td>36.867149</td>\n",
       "      <td>8999800</td>\n",
       "    </tr>\n",
       "    <tr>\n",
       "      <th>4</th>\n",
       "      <td>2019-03-08</td>\n",
       "      <td>37.630001</td>\n",
       "      <td>38.040001</td>\n",
       "      <td>37.500000</td>\n",
       "      <td>37.990002</td>\n",
       "      <td>36.818687</td>\n",
       "      <td>6911000</td>\n",
       "    </tr>\n",
       "  </tbody>\n",
       "</table>\n",
       "</div>"
      ],
      "text/plain": [
       "         Date       Open       High        Low      Close  Adj Close   Volume\n",
       "0  2019-03-04  39.700001  41.500000  39.029999  39.250000  37.666031  7524500\n",
       "1  2019-03-05  39.279999  39.419998  39.020000  39.279999  37.694820  4866200\n",
       "2  2019-03-06  39.240002  39.290001  38.490002  38.669998  37.109436  9413300\n",
       "3  2019-03-07  38.099998  38.340000  37.639999  38.040001  36.867149  8999800\n",
       "4  2019-03-08  37.630001  38.040001  37.500000  37.990002  36.818687  6911000"
      ]
     },
     "execution_count": 18,
     "metadata": {},
     "output_type": "execute_result"
    }
   ],
   "source": [
    "# Lendo tabela\n",
    "url = 'https://raw.githubusercontent.com/rsucupira/Evolutionary-Optimization/master/GM.csv'\n",
    "df = pd.read_csv(url)\n",
    "df.head()"
   ]
  },
  {
   "cell_type": "code",
   "execution_count": 19,
   "metadata": {},
   "outputs": [
    {
     "data": {
      "text/plain": [
       "Index(['Date', 'Open', 'High', 'Low', 'Close', 'Adj Close', 'Volume'], dtype='object')"
      ]
     },
     "execution_count": 19,
     "metadata": {},
     "output_type": "execute_result"
    }
   ],
   "source": [
    "# Verificando indices das colunas\n",
    "df.columns"
   ]
  },
  {
   "cell_type": "code",
   "execution_count": 20,
   "metadata": {},
   "outputs": [
    {
     "data": {
      "text/html": [
       "<div>\n",
       "<style scoped>\n",
       "    .dataframe tbody tr th:only-of-type {\n",
       "        vertical-align: middle;\n",
       "    }\n",
       "\n",
       "    .dataframe tbody tr th {\n",
       "        vertical-align: top;\n",
       "    }\n",
       "\n",
       "    .dataframe thead th {\n",
       "        text-align: right;\n",
       "    }\n",
       "</style>\n",
       "<table border=\"1\" class=\"dataframe\">\n",
       "  <thead>\n",
       "    <tr style=\"text-align: right;\">\n",
       "      <th></th>\n",
       "      <th>Date_</th>\n",
       "      <th>Open_</th>\n",
       "      <th>High_</th>\n",
       "      <th>Low_</th>\n",
       "      <th>Close_</th>\n",
       "      <th>Adj Close_</th>\n",
       "      <th>Volume_</th>\n",
       "    </tr>\n",
       "  </thead>\n",
       "  <tbody>\n",
       "    <tr>\n",
       "      <th>0</th>\n",
       "      <td>2019-03-04</td>\n",
       "      <td>39.700001</td>\n",
       "      <td>41.500000</td>\n",
       "      <td>39.029999</td>\n",
       "      <td>39.250000</td>\n",
       "      <td>37.666031</td>\n",
       "      <td>7524500</td>\n",
       "    </tr>\n",
       "    <tr>\n",
       "      <th>1</th>\n",
       "      <td>2019-03-05</td>\n",
       "      <td>39.279999</td>\n",
       "      <td>39.419998</td>\n",
       "      <td>39.020000</td>\n",
       "      <td>39.279999</td>\n",
       "      <td>37.694820</td>\n",
       "      <td>4866200</td>\n",
       "    </tr>\n",
       "    <tr>\n",
       "      <th>2</th>\n",
       "      <td>2019-03-06</td>\n",
       "      <td>39.240002</td>\n",
       "      <td>39.290001</td>\n",
       "      <td>38.490002</td>\n",
       "      <td>38.669998</td>\n",
       "      <td>37.109436</td>\n",
       "      <td>9413300</td>\n",
       "    </tr>\n",
       "    <tr>\n",
       "      <th>3</th>\n",
       "      <td>2019-03-07</td>\n",
       "      <td>38.099998</td>\n",
       "      <td>38.340000</td>\n",
       "      <td>37.639999</td>\n",
       "      <td>38.040001</td>\n",
       "      <td>36.867149</td>\n",
       "      <td>8999800</td>\n",
       "    </tr>\n",
       "    <tr>\n",
       "      <th>4</th>\n",
       "      <td>2019-03-08</td>\n",
       "      <td>37.630001</td>\n",
       "      <td>38.040001</td>\n",
       "      <td>37.500000</td>\n",
       "      <td>37.990002</td>\n",
       "      <td>36.818687</td>\n",
       "      <td>6911000</td>\n",
       "    </tr>\n",
       "    <tr>\n",
       "      <th>...</th>\n",
       "      <td>...</td>\n",
       "      <td>...</td>\n",
       "      <td>...</td>\n",
       "      <td>...</td>\n",
       "      <td>...</td>\n",
       "      <td>...</td>\n",
       "      <td>...</td>\n",
       "    </tr>\n",
       "    <tr>\n",
       "      <th>248</th>\n",
       "      <td>2020-02-26</td>\n",
       "      <td>32.099998</td>\n",
       "      <td>32.610001</td>\n",
       "      <td>31.889999</td>\n",
       "      <td>32.000000</td>\n",
       "      <td>32.000000</td>\n",
       "      <td>14421900</td>\n",
       "    </tr>\n",
       "    <tr>\n",
       "      <th>249</th>\n",
       "      <td>2020-02-27</td>\n",
       "      <td>31.299999</td>\n",
       "      <td>31.920000</td>\n",
       "      <td>30.549999</td>\n",
       "      <td>30.709999</td>\n",
       "      <td>30.709999</td>\n",
       "      <td>14940400</td>\n",
       "    </tr>\n",
       "    <tr>\n",
       "      <th>250</th>\n",
       "      <td>2020-02-28</td>\n",
       "      <td>29.780001</td>\n",
       "      <td>30.500000</td>\n",
       "      <td>29.330000</td>\n",
       "      <td>30.500000</td>\n",
       "      <td>30.500000</td>\n",
       "      <td>20832300</td>\n",
       "    </tr>\n",
       "    <tr>\n",
       "      <th>251</th>\n",
       "      <td>2020-03-02</td>\n",
       "      <td>30.520000</td>\n",
       "      <td>31.450001</td>\n",
       "      <td>29.740000</td>\n",
       "      <td>31.420000</td>\n",
       "      <td>31.420000</td>\n",
       "      <td>14992100</td>\n",
       "    </tr>\n",
       "    <tr>\n",
       "      <th>252</th>\n",
       "      <td>2020-03-03</td>\n",
       "      <td>31.500000</td>\n",
       "      <td>32.299999</td>\n",
       "      <td>30.270000</td>\n",
       "      <td>30.730000</td>\n",
       "      <td>30.730000</td>\n",
       "      <td>12336039</td>\n",
       "    </tr>\n",
       "  </tbody>\n",
       "</table>\n",
       "<p>253 rows × 7 columns</p>\n",
       "</div>"
      ],
      "text/plain": [
       "          Date_      Open_      High_       Low_     Close_  Adj Close_  \\\n",
       "0    2019-03-04  39.700001  41.500000  39.029999  39.250000   37.666031   \n",
       "1    2019-03-05  39.279999  39.419998  39.020000  39.279999   37.694820   \n",
       "2    2019-03-06  39.240002  39.290001  38.490002  38.669998   37.109436   \n",
       "3    2019-03-07  38.099998  38.340000  37.639999  38.040001   36.867149   \n",
       "4    2019-03-08  37.630001  38.040001  37.500000  37.990002   36.818687   \n",
       "..          ...        ...        ...        ...        ...         ...   \n",
       "248  2020-02-26  32.099998  32.610001  31.889999  32.000000   32.000000   \n",
       "249  2020-02-27  31.299999  31.920000  30.549999  30.709999   30.709999   \n",
       "250  2020-02-28  29.780001  30.500000  29.330000  30.500000   30.500000   \n",
       "251  2020-03-02  30.520000  31.450001  29.740000  31.420000   31.420000   \n",
       "252  2020-03-03  31.500000  32.299999  30.270000  30.730000   30.730000   \n",
       "\n",
       "      Volume_  \n",
       "0     7524500  \n",
       "1     4866200  \n",
       "2     9413300  \n",
       "3     8999800  \n",
       "4     6911000  \n",
       "..        ...  \n",
       "248  14421900  \n",
       "249  14940400  \n",
       "250  20832300  \n",
       "251  14992100  \n",
       "252  12336039  \n",
       "\n",
       "[253 rows x 7 columns]"
      ]
     },
     "execution_count": 20,
     "metadata": {},
     "output_type": "execute_result"
    }
   ],
   "source": [
    "# Modificando indices para as colunas\n",
    "df.set_axis(['Date_', 'Open_', 'High_', 'Low_', 'Close_', 'Adj Close_', 'Volume_'], axis=1)\n",
    "#df.head()"
   ]
  },
  {
   "cell_type": "code",
   "execution_count": 21,
   "metadata": {},
   "outputs": [
    {
     "data": {
      "text/plain": [
       "0    39.700001\n",
       "1    39.279999\n",
       "2    39.240002\n",
       "3    38.099998\n",
       "4    37.630001\n",
       "Name: Open, dtype: float64"
      ]
     },
     "execution_count": 21,
     "metadata": {},
     "output_type": "execute_result"
    }
   ],
   "source": [
    "df['Open'].head()"
   ]
  },
  {
   "cell_type": "code",
   "execution_count": 32,
   "metadata": {},
   "outputs": [
    {
     "data": {
      "text/plain": [
       "0      False\n",
       "1      False\n",
       "2      False\n",
       "3      False\n",
       "4      False\n",
       "       ...  \n",
       "248    False\n",
       "249    False\n",
       "250    False\n",
       "251    False\n",
       "252    False\n",
       "Length: 253, dtype: bool"
      ]
     },
     "execution_count": 32,
     "metadata": {},
     "output_type": "execute_result"
    }
   ],
   "source": [
    "# Criando filtro com | (or)\n",
    "filtro = (df['Open']>40) | (df['Low']>40)\n",
    "filtro"
   ]
  },
  {
   "cell_type": "code",
   "execution_count": 33,
   "metadata": {},
   "outputs": [
    {
     "data": {
      "text/html": [
       "<div>\n",
       "<style scoped>\n",
       "    .dataframe tbody tr th:only-of-type {\n",
       "        vertical-align: middle;\n",
       "    }\n",
       "\n",
       "    .dataframe tbody tr th {\n",
       "        vertical-align: top;\n",
       "    }\n",
       "\n",
       "    .dataframe thead th {\n",
       "        text-align: right;\n",
       "    }\n",
       "</style>\n",
       "<table border=\"1\" class=\"dataframe\">\n",
       "  <thead>\n",
       "    <tr style=\"text-align: right;\">\n",
       "      <th></th>\n",
       "      <th>Date</th>\n",
       "      <th>Open</th>\n",
       "      <th>High</th>\n",
       "      <th>Low</th>\n",
       "      <th>Close</th>\n",
       "      <th>Adj Close</th>\n",
       "      <th>Volume</th>\n",
       "    </tr>\n",
       "  </thead>\n",
       "  <tbody>\n",
       "    <tr>\n",
       "      <th>32</th>\n",
       "      <td>2019-04-17</td>\n",
       "      <td>40.099998</td>\n",
       "      <td>40.259998</td>\n",
       "      <td>39.880001</td>\n",
       "      <td>39.990002</td>\n",
       "      <td>38.757023</td>\n",
       "      <td>8643500</td>\n",
       "    </tr>\n",
       "    <tr>\n",
       "      <th>38</th>\n",
       "      <td>2019-04-26</td>\n",
       "      <td>40.049999</td>\n",
       "      <td>40.099998</td>\n",
       "      <td>39.439999</td>\n",
       "      <td>39.680000</td>\n",
       "      <td>38.456585</td>\n",
       "      <td>11830500</td>\n",
       "    </tr>\n",
       "    <tr>\n",
       "      <th>98</th>\n",
       "      <td>2019-07-23</td>\n",
       "      <td>40.349998</td>\n",
       "      <td>40.919998</td>\n",
       "      <td>40.150002</td>\n",
       "      <td>40.709999</td>\n",
       "      <td>39.877632</td>\n",
       "      <td>12584300</td>\n",
       "    </tr>\n",
       "    <tr>\n",
       "      <th>99</th>\n",
       "      <td>2019-07-24</td>\n",
       "      <td>40.590000</td>\n",
       "      <td>40.910000</td>\n",
       "      <td>40.330002</td>\n",
       "      <td>40.880001</td>\n",
       "      <td>40.044159</td>\n",
       "      <td>7318200</td>\n",
       "    </tr>\n",
       "    <tr>\n",
       "      <th>100</th>\n",
       "      <td>2019-07-25</td>\n",
       "      <td>40.340000</td>\n",
       "      <td>40.820000</td>\n",
       "      <td>40.119999</td>\n",
       "      <td>40.750000</td>\n",
       "      <td>39.916817</td>\n",
       "      <td>8304800</td>\n",
       "    </tr>\n",
       "    <tr>\n",
       "      <th>101</th>\n",
       "      <td>2019-07-26</td>\n",
       "      <td>40.720001</td>\n",
       "      <td>41.000000</td>\n",
       "      <td>40.470001</td>\n",
       "      <td>40.770000</td>\n",
       "      <td>39.936405</td>\n",
       "      <td>5705900</td>\n",
       "    </tr>\n",
       "    <tr>\n",
       "      <th>102</th>\n",
       "      <td>2019-07-29</td>\n",
       "      <td>40.709999</td>\n",
       "      <td>40.880001</td>\n",
       "      <td>40.560001</td>\n",
       "      <td>40.680000</td>\n",
       "      <td>39.848248</td>\n",
       "      <td>5711200</td>\n",
       "    </tr>\n",
       "    <tr>\n",
       "      <th>103</th>\n",
       "      <td>2019-07-30</td>\n",
       "      <td>40.259998</td>\n",
       "      <td>40.560001</td>\n",
       "      <td>39.919998</td>\n",
       "      <td>40.430000</td>\n",
       "      <td>39.603355</td>\n",
       "      <td>5436900</td>\n",
       "    </tr>\n",
       "    <tr>\n",
       "      <th>104</th>\n",
       "      <td>2019-07-31</td>\n",
       "      <td>40.599998</td>\n",
       "      <td>40.720001</td>\n",
       "      <td>40.110001</td>\n",
       "      <td>40.340000</td>\n",
       "      <td>39.515198</td>\n",
       "      <td>10155700</td>\n",
       "    </tr>\n",
       "    <tr>\n",
       "      <th>105</th>\n",
       "      <td>2019-08-01</td>\n",
       "      <td>41.259998</td>\n",
       "      <td>41.900002</td>\n",
       "      <td>39.669998</td>\n",
       "      <td>40.150002</td>\n",
       "      <td>39.329082</td>\n",
       "      <td>18102900</td>\n",
       "    </tr>\n",
       "  </tbody>\n",
       "</table>\n",
       "</div>"
      ],
      "text/plain": [
       "           Date       Open       High        Low      Close  Adj Close  \\\n",
       "32   2019-04-17  40.099998  40.259998  39.880001  39.990002  38.757023   \n",
       "38   2019-04-26  40.049999  40.099998  39.439999  39.680000  38.456585   \n",
       "98   2019-07-23  40.349998  40.919998  40.150002  40.709999  39.877632   \n",
       "99   2019-07-24  40.590000  40.910000  40.330002  40.880001  40.044159   \n",
       "100  2019-07-25  40.340000  40.820000  40.119999  40.750000  39.916817   \n",
       "101  2019-07-26  40.720001  41.000000  40.470001  40.770000  39.936405   \n",
       "102  2019-07-29  40.709999  40.880001  40.560001  40.680000  39.848248   \n",
       "103  2019-07-30  40.259998  40.560001  39.919998  40.430000  39.603355   \n",
       "104  2019-07-31  40.599998  40.720001  40.110001  40.340000  39.515198   \n",
       "105  2019-08-01  41.259998  41.900002  39.669998  40.150002  39.329082   \n",
       "\n",
       "       Volume  \n",
       "32    8643500  \n",
       "38   11830500  \n",
       "98   12584300  \n",
       "99    7318200  \n",
       "100   8304800  \n",
       "101   5705900  \n",
       "102   5711200  \n",
       "103   5436900  \n",
       "104  10155700  \n",
       "105  18102900  "
      ]
     },
     "execution_count": 33,
     "metadata": {},
     "output_type": "execute_result"
    }
   ],
   "source": [
    "# Aplicando filtro\n",
    "df[filtro]"
   ]
  },
  {
   "cell_type": "code",
   "execution_count": 34,
   "metadata": {},
   "outputs": [
    {
     "data": {
      "text/html": [
       "<div>\n",
       "<style scoped>\n",
       "    .dataframe tbody tr th:only-of-type {\n",
       "        vertical-align: middle;\n",
       "    }\n",
       "\n",
       "    .dataframe tbody tr th {\n",
       "        vertical-align: top;\n",
       "    }\n",
       "\n",
       "    .dataframe thead th {\n",
       "        text-align: right;\n",
       "    }\n",
       "</style>\n",
       "<table border=\"1\" class=\"dataframe\">\n",
       "  <thead>\n",
       "    <tr style=\"text-align: right;\">\n",
       "      <th></th>\n",
       "      <th>Date</th>\n",
       "      <th>Open</th>\n",
       "      <th>High</th>\n",
       "      <th>Low</th>\n",
       "      <th>Close</th>\n",
       "      <th>Adj Close</th>\n",
       "      <th>Volume</th>\n",
       "    </tr>\n",
       "  </thead>\n",
       "  <tbody>\n",
       "    <tr>\n",
       "      <th>0</th>\n",
       "      <td>2019-03-04</td>\n",
       "      <td>39.700001</td>\n",
       "      <td>41.500000</td>\n",
       "      <td>39.029999</td>\n",
       "      <td>39.250000</td>\n",
       "      <td>37.666031</td>\n",
       "      <td>7524500</td>\n",
       "    </tr>\n",
       "    <tr>\n",
       "      <th>1</th>\n",
       "      <td>2019-03-05</td>\n",
       "      <td>39.279999</td>\n",
       "      <td>39.419998</td>\n",
       "      <td>39.020000</td>\n",
       "      <td>39.279999</td>\n",
       "      <td>37.694820</td>\n",
       "      <td>4866200</td>\n",
       "    </tr>\n",
       "    <tr>\n",
       "      <th>2</th>\n",
       "      <td>2019-03-06</td>\n",
       "      <td>39.240002</td>\n",
       "      <td>39.290001</td>\n",
       "      <td>38.490002</td>\n",
       "      <td>38.669998</td>\n",
       "      <td>37.109436</td>\n",
       "      <td>9413300</td>\n",
       "    </tr>\n",
       "    <tr>\n",
       "      <th>3</th>\n",
       "      <td>2019-03-07</td>\n",
       "      <td>38.099998</td>\n",
       "      <td>38.340000</td>\n",
       "      <td>37.639999</td>\n",
       "      <td>38.040001</td>\n",
       "      <td>36.867149</td>\n",
       "      <td>8999800</td>\n",
       "    </tr>\n",
       "    <tr>\n",
       "      <th>4</th>\n",
       "      <td>2019-03-08</td>\n",
       "      <td>37.630001</td>\n",
       "      <td>38.040001</td>\n",
       "      <td>37.500000</td>\n",
       "      <td>37.990002</td>\n",
       "      <td>36.818687</td>\n",
       "      <td>6911000</td>\n",
       "    </tr>\n",
       "    <tr>\n",
       "      <th>...</th>\n",
       "      <td>...</td>\n",
       "      <td>...</td>\n",
       "      <td>...</td>\n",
       "      <td>...</td>\n",
       "      <td>...</td>\n",
       "      <td>...</td>\n",
       "      <td>...</td>\n",
       "    </tr>\n",
       "    <tr>\n",
       "      <th>248</th>\n",
       "      <td>2020-02-26</td>\n",
       "      <td>32.099998</td>\n",
       "      <td>32.610001</td>\n",
       "      <td>31.889999</td>\n",
       "      <td>32.000000</td>\n",
       "      <td>32.000000</td>\n",
       "      <td>14421900</td>\n",
       "    </tr>\n",
       "    <tr>\n",
       "      <th>249</th>\n",
       "      <td>2020-02-27</td>\n",
       "      <td>31.299999</td>\n",
       "      <td>31.920000</td>\n",
       "      <td>30.549999</td>\n",
       "      <td>30.709999</td>\n",
       "      <td>30.709999</td>\n",
       "      <td>14940400</td>\n",
       "    </tr>\n",
       "    <tr>\n",
       "      <th>250</th>\n",
       "      <td>2020-02-28</td>\n",
       "      <td>29.780001</td>\n",
       "      <td>30.500000</td>\n",
       "      <td>29.330000</td>\n",
       "      <td>30.500000</td>\n",
       "      <td>30.500000</td>\n",
       "      <td>20832300</td>\n",
       "    </tr>\n",
       "    <tr>\n",
       "      <th>251</th>\n",
       "      <td>2020-03-02</td>\n",
       "      <td>30.520000</td>\n",
       "      <td>31.450001</td>\n",
       "      <td>29.740000</td>\n",
       "      <td>31.420000</td>\n",
       "      <td>31.420000</td>\n",
       "      <td>14992100</td>\n",
       "    </tr>\n",
       "    <tr>\n",
       "      <th>252</th>\n",
       "      <td>2020-03-03</td>\n",
       "      <td>31.500000</td>\n",
       "      <td>32.299999</td>\n",
       "      <td>30.270000</td>\n",
       "      <td>30.730000</td>\n",
       "      <td>30.730000</td>\n",
       "      <td>12336039</td>\n",
       "    </tr>\n",
       "  </tbody>\n",
       "</table>\n",
       "<p>253 rows × 7 columns</p>\n",
       "</div>"
      ],
      "text/plain": [
       "           Date       Open       High        Low      Close  Adj Close  \\\n",
       "0    2019-03-04  39.700001  41.500000  39.029999  39.250000  37.666031   \n",
       "1    2019-03-05  39.279999  39.419998  39.020000  39.279999  37.694820   \n",
       "2    2019-03-06  39.240002  39.290001  38.490002  38.669998  37.109436   \n",
       "3    2019-03-07  38.099998  38.340000  37.639999  38.040001  36.867149   \n",
       "4    2019-03-08  37.630001  38.040001  37.500000  37.990002  36.818687   \n",
       "..          ...        ...        ...        ...        ...        ...   \n",
       "248  2020-02-26  32.099998  32.610001  31.889999  32.000000  32.000000   \n",
       "249  2020-02-27  31.299999  31.920000  30.549999  30.709999  30.709999   \n",
       "250  2020-02-28  29.780001  30.500000  29.330000  30.500000  30.500000   \n",
       "251  2020-03-02  30.520000  31.450001  29.740000  31.420000  31.420000   \n",
       "252  2020-03-03  31.500000  32.299999  30.270000  30.730000  30.730000   \n",
       "\n",
       "       Volume  \n",
       "0     7524500  \n",
       "1     4866200  \n",
       "2     9413300  \n",
       "3     8999800  \n",
       "4     6911000  \n",
       "..        ...  \n",
       "248  14421900  \n",
       "249  14940400  \n",
       "250  20832300  \n",
       "251  14992100  \n",
       "252  12336039  \n",
       "\n",
       "[253 rows x 7 columns]"
      ]
     },
     "execution_count": 34,
     "metadata": {},
     "output_type": "execute_result"
    }
   ],
   "source": [
    "# Verificando se a mudança foi feita\n",
    "df"
   ]
  },
  {
   "cell_type": "code",
   "execution_count": 35,
   "metadata": {},
   "outputs": [
    {
     "data": {
      "text/plain": [
       "['2019-04-08',\n",
       " '2019-04-09',\n",
       " '2019-04-10',\n",
       " '2019-04-11',\n",
       " '2019-04-12',\n",
       " '2019-04-13',\n",
       " '2019-04-14',\n",
       " '2019-04-15',\n",
       " '2019-04-16',\n",
       " '2019-04-17',\n",
       " '2019-04-18',\n",
       " '2019-04-19',\n",
       " '2019-04-20',\n",
       " '2019-04-21',\n",
       " '2019-04-22',\n",
       " '2019-04-23',\n",
       " '2019-04-24',\n",
       " '2019-04-25',\n",
       " '2019-04-26']"
      ]
     },
     "execution_count": 35,
     "metadata": {},
     "output_type": "execute_result"
    }
   ],
   "source": [
    "# Criando lista para datas a serem filtradas\n",
    "dias = range(8,27)\n",
    "lista_datas = []\n",
    "for dia in dias:\n",
    "    string = '2019-04-{:02d}'.format(dia)\n",
    "    lista_datas.append(string)\n",
    "\n",
    "lista_datas"
   ]
  },
  {
   "cell_type": "code",
   "execution_count": 36,
   "metadata": {},
   "outputs": [
    {
     "data": {
      "text/plain": [
       "0      False\n",
       "1      False\n",
       "2      False\n",
       "3      False\n",
       "4      False\n",
       "       ...  \n",
       "248    False\n",
       "249    False\n",
       "250    False\n",
       "251    False\n",
       "252    False\n",
       "Name: Date, Length: 253, dtype: bool"
      ]
     },
     "execution_count": 36,
     "metadata": {},
     "output_type": "execute_result"
    }
   ],
   "source": [
    "# Aplicando em uma máscara\n",
    "mascara = df['Date'].isin(lista_datas)\n",
    "mascara"
   ]
  },
  {
   "cell_type": "code",
   "execution_count": 37,
   "metadata": {},
   "outputs": [
    {
     "data": {
      "text/html": [
       "<div>\n",
       "<style scoped>\n",
       "    .dataframe tbody tr th:only-of-type {\n",
       "        vertical-align: middle;\n",
       "    }\n",
       "\n",
       "    .dataframe tbody tr th {\n",
       "        vertical-align: top;\n",
       "    }\n",
       "\n",
       "    .dataframe thead th {\n",
       "        text-align: right;\n",
       "    }\n",
       "</style>\n",
       "<table border=\"1\" class=\"dataframe\">\n",
       "  <thead>\n",
       "    <tr style=\"text-align: right;\">\n",
       "      <th></th>\n",
       "      <th>Date</th>\n",
       "      <th>Open</th>\n",
       "      <th>High</th>\n",
       "      <th>Low</th>\n",
       "      <th>Close</th>\n",
       "      <th>Adj Close</th>\n",
       "      <th>Volume</th>\n",
       "    </tr>\n",
       "  </thead>\n",
       "  <tbody>\n",
       "    <tr>\n",
       "      <th>25</th>\n",
       "      <td>2019-04-08</td>\n",
       "      <td>38.770000</td>\n",
       "      <td>39.090000</td>\n",
       "      <td>38.759998</td>\n",
       "      <td>39.060001</td>\n",
       "      <td>37.855701</td>\n",
       "      <td>5992400</td>\n",
       "    </tr>\n",
       "    <tr>\n",
       "      <th>26</th>\n",
       "      <td>2019-04-09</td>\n",
       "      <td>38.849998</td>\n",
       "      <td>39.080002</td>\n",
       "      <td>38.700001</td>\n",
       "      <td>38.860001</td>\n",
       "      <td>37.661865</td>\n",
       "      <td>6528900</td>\n",
       "    </tr>\n",
       "    <tr>\n",
       "      <th>27</th>\n",
       "      <td>2019-04-10</td>\n",
       "      <td>38.889999</td>\n",
       "      <td>39.419998</td>\n",
       "      <td>38.779999</td>\n",
       "      <td>39.250000</td>\n",
       "      <td>38.039841</td>\n",
       "      <td>5471100</td>\n",
       "    </tr>\n",
       "    <tr>\n",
       "      <th>28</th>\n",
       "      <td>2019-04-11</td>\n",
       "      <td>39.380001</td>\n",
       "      <td>39.590000</td>\n",
       "      <td>39.130001</td>\n",
       "      <td>39.330002</td>\n",
       "      <td>38.117371</td>\n",
       "      <td>4581500</td>\n",
       "    </tr>\n",
       "    <tr>\n",
       "      <th>29</th>\n",
       "      <td>2019-04-12</td>\n",
       "      <td>39.599998</td>\n",
       "      <td>40.049999</td>\n",
       "      <td>39.529999</td>\n",
       "      <td>39.709999</td>\n",
       "      <td>38.485653</td>\n",
       "      <td>4949700</td>\n",
       "    </tr>\n",
       "    <tr>\n",
       "      <th>30</th>\n",
       "      <td>2019-04-15</td>\n",
       "      <td>39.900002</td>\n",
       "      <td>40.009998</td>\n",
       "      <td>39.349998</td>\n",
       "      <td>39.570000</td>\n",
       "      <td>38.349972</td>\n",
       "      <td>5179400</td>\n",
       "    </tr>\n",
       "    <tr>\n",
       "      <th>31</th>\n",
       "      <td>2019-04-16</td>\n",
       "      <td>39.560001</td>\n",
       "      <td>39.910000</td>\n",
       "      <td>39.459999</td>\n",
       "      <td>39.660000</td>\n",
       "      <td>38.437199</td>\n",
       "      <td>5985300</td>\n",
       "    </tr>\n",
       "    <tr>\n",
       "      <th>32</th>\n",
       "      <td>2019-04-17</td>\n",
       "      <td>40.099998</td>\n",
       "      <td>40.259998</td>\n",
       "      <td>39.880001</td>\n",
       "      <td>39.990002</td>\n",
       "      <td>38.757023</td>\n",
       "      <td>8643500</td>\n",
       "    </tr>\n",
       "    <tr>\n",
       "      <th>33</th>\n",
       "      <td>2019-04-18</td>\n",
       "      <td>40.000000</td>\n",
       "      <td>40.450001</td>\n",
       "      <td>39.980000</td>\n",
       "      <td>40.299999</td>\n",
       "      <td>39.057465</td>\n",
       "      <td>10678000</td>\n",
       "    </tr>\n",
       "    <tr>\n",
       "      <th>34</th>\n",
       "      <td>2019-04-22</td>\n",
       "      <td>40.000000</td>\n",
       "      <td>40.099998</td>\n",
       "      <td>39.490002</td>\n",
       "      <td>39.500000</td>\n",
       "      <td>38.282131</td>\n",
       "      <td>7203800</td>\n",
       "    </tr>\n",
       "    <tr>\n",
       "      <th>35</th>\n",
       "      <td>2019-04-23</td>\n",
       "      <td>39.400002</td>\n",
       "      <td>39.840000</td>\n",
       "      <td>39.180000</td>\n",
       "      <td>39.830002</td>\n",
       "      <td>38.601959</td>\n",
       "      <td>9507500</td>\n",
       "    </tr>\n",
       "    <tr>\n",
       "      <th>36</th>\n",
       "      <td>2019-04-24</td>\n",
       "      <td>39.509998</td>\n",
       "      <td>39.889999</td>\n",
       "      <td>39.369999</td>\n",
       "      <td>39.720001</td>\n",
       "      <td>38.495350</td>\n",
       "      <td>5564700</td>\n",
       "    </tr>\n",
       "    <tr>\n",
       "      <th>37</th>\n",
       "      <td>2019-04-25</td>\n",
       "      <td>39.520000</td>\n",
       "      <td>39.720001</td>\n",
       "      <td>38.950001</td>\n",
       "      <td>39.110001</td>\n",
       "      <td>37.904156</td>\n",
       "      <td>8154600</td>\n",
       "    </tr>\n",
       "    <tr>\n",
       "      <th>38</th>\n",
       "      <td>2019-04-26</td>\n",
       "      <td>40.049999</td>\n",
       "      <td>40.099998</td>\n",
       "      <td>39.439999</td>\n",
       "      <td>39.680000</td>\n",
       "      <td>38.456585</td>\n",
       "      <td>11830500</td>\n",
       "    </tr>\n",
       "  </tbody>\n",
       "</table>\n",
       "</div>"
      ],
      "text/plain": [
       "          Date       Open       High        Low      Close  Adj Close  \\\n",
       "25  2019-04-08  38.770000  39.090000  38.759998  39.060001  37.855701   \n",
       "26  2019-04-09  38.849998  39.080002  38.700001  38.860001  37.661865   \n",
       "27  2019-04-10  38.889999  39.419998  38.779999  39.250000  38.039841   \n",
       "28  2019-04-11  39.380001  39.590000  39.130001  39.330002  38.117371   \n",
       "29  2019-04-12  39.599998  40.049999  39.529999  39.709999  38.485653   \n",
       "30  2019-04-15  39.900002  40.009998  39.349998  39.570000  38.349972   \n",
       "31  2019-04-16  39.560001  39.910000  39.459999  39.660000  38.437199   \n",
       "32  2019-04-17  40.099998  40.259998  39.880001  39.990002  38.757023   \n",
       "33  2019-04-18  40.000000  40.450001  39.980000  40.299999  39.057465   \n",
       "34  2019-04-22  40.000000  40.099998  39.490002  39.500000  38.282131   \n",
       "35  2019-04-23  39.400002  39.840000  39.180000  39.830002  38.601959   \n",
       "36  2019-04-24  39.509998  39.889999  39.369999  39.720001  38.495350   \n",
       "37  2019-04-25  39.520000  39.720001  38.950001  39.110001  37.904156   \n",
       "38  2019-04-26  40.049999  40.099998  39.439999  39.680000  38.456585   \n",
       "\n",
       "      Volume  \n",
       "25   5992400  \n",
       "26   6528900  \n",
       "27   5471100  \n",
       "28   4581500  \n",
       "29   4949700  \n",
       "30   5179400  \n",
       "31   5985300  \n",
       "32   8643500  \n",
       "33  10678000  \n",
       "34   7203800  \n",
       "35   9507500  \n",
       "36   5564700  \n",
       "37   8154600  \n",
       "38  11830500  "
      ]
     },
     "execution_count": 37,
     "metadata": {},
     "output_type": "execute_result"
    }
   ],
   "source": [
    "# Verificando resultado\n",
    "df[mascara]"
   ]
  },
  {
   "cell_type": "markdown",
   "metadata": {},
   "source": [
    "### Data Cleaning / Limpeza de Dados"
   ]
  },
  {
   "cell_type": "code",
   "execution_count": 38,
   "metadata": {},
   "outputs": [],
   "source": [
    "ss = pd.Series([7, 5, np.nan, -888, -999, None,  9])"
   ]
  },
  {
   "cell_type": "code",
   "execution_count": 39,
   "metadata": {},
   "outputs": [
    {
     "data": {
      "text/plain": [
       "0      7.0\n",
       "1      5.0\n",
       "3   -888.0\n",
       "4   -999.0\n",
       "6      9.0\n",
       "dtype: float64"
      ]
     },
     "execution_count": 39,
     "metadata": {},
     "output_type": "execute_result"
    }
   ],
   "source": [
    "ss.dropna()"
   ]
  },
  {
   "cell_type": "code",
   "execution_count": 40,
   "metadata": {},
   "outputs": [
    {
     "data": {
      "text/plain": [
       "0       7.0\n",
       "1       5.0\n",
       "2    1000.0\n",
       "3    -888.0\n",
       "4    -999.0\n",
       "5    1000.0\n",
       "6       9.0\n",
       "dtype: float64"
      ]
     },
     "execution_count": 40,
     "metadata": {},
     "output_type": "execute_result"
    }
   ],
   "source": [
    "ss.fillna(1000)"
   ]
  },
  {
   "cell_type": "code",
   "execution_count": 41,
   "metadata": {},
   "outputs": [
    {
     "data": {
      "text/plain": [
       "0    False\n",
       "1    False\n",
       "2     True\n",
       "3    False\n",
       "4    False\n",
       "5     True\n",
       "6    False\n",
       "dtype: bool"
      ]
     },
     "execution_count": 41,
     "metadata": {},
     "output_type": "execute_result"
    }
   ],
   "source": [
    "ss.isnull()"
   ]
  },
  {
   "cell_type": "code",
   "execution_count": 42,
   "metadata": {},
   "outputs": [
    {
     "data": {
      "text/plain": [
       "0     True\n",
       "1     True\n",
       "2    False\n",
       "3     True\n",
       "4     True\n",
       "5    False\n",
       "6     True\n",
       "dtype: bool"
      ]
     },
     "execution_count": 42,
     "metadata": {},
     "output_type": "execute_result"
    }
   ],
   "source": [
    "ss.notnull()"
   ]
  },
  {
   "cell_type": "code",
   "execution_count": 43,
   "metadata": {},
   "outputs": [
    {
     "data": {
      "text/plain": [
       "0      7.0\n",
       "1      5.0\n",
       "2      NaN\n",
       "3   -888.0\n",
       "4      NaN\n",
       "5      NaN\n",
       "6      9.0\n",
       "dtype: float64"
      ]
     },
     "execution_count": 43,
     "metadata": {},
     "output_type": "execute_result"
    }
   ],
   "source": [
    "ss.replace(-999, np.nan)"
   ]
  },
  {
   "cell_type": "code",
   "execution_count": 44,
   "metadata": {},
   "outputs": [
    {
     "data": {
      "text/plain": [
       "0    7.0\n",
       "1    5.0\n",
       "2    NaN\n",
       "3    NaN\n",
       "4    NaN\n",
       "5    NaN\n",
       "6    9.0\n",
       "dtype: float64"
      ]
     },
     "execution_count": 44,
     "metadata": {},
     "output_type": "execute_result"
    }
   ],
   "source": [
    "ss.replace([-999, -888], np.nan)"
   ]
  },
  {
   "cell_type": "code",
   "execution_count": 45,
   "metadata": {},
   "outputs": [
    {
     "data": {
      "text/plain": [
       "0    7.0\n",
       "1    5.0\n",
       "2    NaN\n",
       "3    NaN\n",
       "4    0.0\n",
       "5    NaN\n",
       "6    9.0\n",
       "dtype: float64"
      ]
     },
     "execution_count": 45,
     "metadata": {},
     "output_type": "execute_result"
    }
   ],
   "source": [
    "ss.replace([-999, -888], [0, np.nan])"
   ]
  },
  {
   "cell_type": "code",
   "execution_count": 47,
   "metadata": {},
   "outputs": [
    {
     "data": {
      "text/plain": [
       "0    7.0\n",
       "1    5.0\n",
       "2    NaN\n",
       "3    NaN\n",
       "4    0.0\n",
       "5    NaN\n",
       "6    9.0\n",
       "dtype: float64"
      ]
     },
     "execution_count": 47,
     "metadata": {},
     "output_type": "execute_result"
    }
   ],
   "source": [
    "ss.replace({-999: 0, -888: np.nan})"
   ]
  },
  {
   "cell_type": "code",
   "execution_count": 48,
   "metadata": {},
   "outputs": [
    {
     "data": {
      "text/html": [
       "<div>\n",
       "<style scoped>\n",
       "    .dataframe tbody tr th:only-of-type {\n",
       "        vertical-align: middle;\n",
       "    }\n",
       "\n",
       "    .dataframe tbody tr th {\n",
       "        vertical-align: top;\n",
       "    }\n",
       "\n",
       "    .dataframe thead th {\n",
       "        text-align: right;\n",
       "    }\n",
       "</style>\n",
       "<table border=\"1\" class=\"dataframe\">\n",
       "  <thead>\n",
       "    <tr style=\"text-align: right;\">\n",
       "      <th></th>\n",
       "      <th>col1</th>\n",
       "      <th>col2</th>\n",
       "      <th>col3</th>\n",
       "    </tr>\n",
       "  </thead>\n",
       "  <tbody>\n",
       "    <tr>\n",
       "      <th>0</th>\n",
       "      <td>1.0</td>\n",
       "      <td>NaN</td>\n",
       "      <td>abc</td>\n",
       "    </tr>\n",
       "    <tr>\n",
       "      <th>1</th>\n",
       "      <td>2.0</td>\n",
       "      <td>555.0</td>\n",
       "      <td>def</td>\n",
       "    </tr>\n",
       "    <tr>\n",
       "      <th>2</th>\n",
       "      <td>3.0</td>\n",
       "      <td>666.0</td>\n",
       "      <td>ghi</td>\n",
       "    </tr>\n",
       "    <tr>\n",
       "      <th>3</th>\n",
       "      <td>NaN</td>\n",
       "      <td>444.0</td>\n",
       "      <td>xyz</td>\n",
       "    </tr>\n",
       "  </tbody>\n",
       "</table>\n",
       "</div>"
      ],
      "text/plain": [
       "   col1   col2 col3\n",
       "0   1.0    NaN  abc\n",
       "1   2.0  555.0  def\n",
       "2   3.0  666.0  ghi\n",
       "3   NaN  444.0  xyz"
      ]
     },
     "execution_count": 48,
     "metadata": {},
     "output_type": "execute_result"
    }
   ],
   "source": [
    "ss2 = pd.DataFrame({'col1':[1,2,3,np.nan],\n",
    "\n",
    "                   'col2':[np.nan,555,666,444],\n",
    "                   'col3':['abc','def','ghi','xyz']})\n",
    "ss2.head()"
   ]
  },
  {
   "cell_type": "code",
   "execution_count": 49,
   "metadata": {},
   "outputs": [
    {
     "data": {
      "text/html": [
       "<div>\n",
       "<style scoped>\n",
       "    .dataframe tbody tr th:only-of-type {\n",
       "        vertical-align: middle;\n",
       "    }\n",
       "\n",
       "    .dataframe tbody tr th {\n",
       "        vertical-align: top;\n",
       "    }\n",
       "\n",
       "    .dataframe thead th {\n",
       "        text-align: right;\n",
       "    }\n",
       "</style>\n",
       "<table border=\"1\" class=\"dataframe\">\n",
       "  <thead>\n",
       "    <tr style=\"text-align: right;\">\n",
       "      <th></th>\n",
       "      <th>col1</th>\n",
       "      <th>col2</th>\n",
       "      <th>col3</th>\n",
       "    </tr>\n",
       "  </thead>\n",
       "  <tbody>\n",
       "    <tr>\n",
       "      <th>1</th>\n",
       "      <td>2.0</td>\n",
       "      <td>555.0</td>\n",
       "      <td>def</td>\n",
       "    </tr>\n",
       "    <tr>\n",
       "      <th>2</th>\n",
       "      <td>3.0</td>\n",
       "      <td>666.0</td>\n",
       "      <td>ghi</td>\n",
       "    </tr>\n",
       "  </tbody>\n",
       "</table>\n",
       "</div>"
      ],
      "text/plain": [
       "   col1   col2 col3\n",
       "1   2.0  555.0  def\n",
       "2   3.0  666.0  ghi"
      ]
     },
     "execution_count": 49,
     "metadata": {},
     "output_type": "execute_result"
    }
   ],
   "source": [
    "ss2.dropna()"
   ]
  },
  {
   "cell_type": "code",
   "execution_count": 50,
   "metadata": {},
   "outputs": [
    {
     "data": {
      "text/html": [
       "<div>\n",
       "<style scoped>\n",
       "    .dataframe tbody tr th:only-of-type {\n",
       "        vertical-align: middle;\n",
       "    }\n",
       "\n",
       "    .dataframe tbody tr th {\n",
       "        vertical-align: top;\n",
       "    }\n",
       "\n",
       "    .dataframe thead th {\n",
       "        text-align: right;\n",
       "    }\n",
       "</style>\n",
       "<table border=\"1\" class=\"dataframe\">\n",
       "  <thead>\n",
       "    <tr style=\"text-align: right;\">\n",
       "      <th></th>\n",
       "      <th>col3</th>\n",
       "    </tr>\n",
       "  </thead>\n",
       "  <tbody>\n",
       "    <tr>\n",
       "      <th>0</th>\n",
       "      <td>abc</td>\n",
       "    </tr>\n",
       "    <tr>\n",
       "      <th>1</th>\n",
       "      <td>def</td>\n",
       "    </tr>\n",
       "    <tr>\n",
       "      <th>2</th>\n",
       "      <td>ghi</td>\n",
       "    </tr>\n",
       "    <tr>\n",
       "      <th>3</th>\n",
       "      <td>xyz</td>\n",
       "    </tr>\n",
       "  </tbody>\n",
       "</table>\n",
       "</div>"
      ],
      "text/plain": [
       "  col3\n",
       "0  abc\n",
       "1  def\n",
       "2  ghi\n",
       "3  xyz"
      ]
     },
     "execution_count": 50,
     "metadata": {},
     "output_type": "execute_result"
    }
   ],
   "source": [
    "ss2.dropna(axis=1)"
   ]
  },
  {
   "cell_type": "code",
   "execution_count": 51,
   "metadata": {},
   "outputs": [
    {
     "data": {
      "text/html": [
       "<div>\n",
       "<style scoped>\n",
       "    .dataframe tbody tr th:only-of-type {\n",
       "        vertical-align: middle;\n",
       "    }\n",
       "\n",
       "    .dataframe tbody tr th {\n",
       "        vertical-align: top;\n",
       "    }\n",
       "\n",
       "    .dataframe thead th {\n",
       "        text-align: right;\n",
       "    }\n",
       "</style>\n",
       "<table border=\"1\" class=\"dataframe\">\n",
       "  <thead>\n",
       "    <tr style=\"text-align: right;\">\n",
       "      <th></th>\n",
       "      <th>col1</th>\n",
       "      <th>col2</th>\n",
       "      <th>col3</th>\n",
       "    </tr>\n",
       "  </thead>\n",
       "  <tbody>\n",
       "    <tr>\n",
       "      <th>0</th>\n",
       "      <td>1</td>\n",
       "      <td>Isso não é um número</td>\n",
       "      <td>abc</td>\n",
       "    </tr>\n",
       "    <tr>\n",
       "      <th>1</th>\n",
       "      <td>2</td>\n",
       "      <td>555</td>\n",
       "      <td>def</td>\n",
       "    </tr>\n",
       "    <tr>\n",
       "      <th>2</th>\n",
       "      <td>3</td>\n",
       "      <td>666</td>\n",
       "      <td>ghi</td>\n",
       "    </tr>\n",
       "    <tr>\n",
       "      <th>3</th>\n",
       "      <td>Isso não é um número</td>\n",
       "      <td>444</td>\n",
       "      <td>xyz</td>\n",
       "    </tr>\n",
       "  </tbody>\n",
       "</table>\n",
       "</div>"
      ],
      "text/plain": [
       "                   col1                  col2 col3\n",
       "0                     1  Isso não é um número  abc\n",
       "1                     2                   555  def\n",
       "2                     3                   666  ghi\n",
       "3  Isso não é um número                   444  xyz"
      ]
     },
     "execution_count": 51,
     "metadata": {},
     "output_type": "execute_result"
    }
   ],
   "source": [
    "ss2.fillna('Isso não é um número')"
   ]
  },
  {
   "cell_type": "code",
   "execution_count": 52,
   "metadata": {},
   "outputs": [
    {
     "data": {
      "text/plain": [
       "col1    1\n",
       "col2    1\n",
       "col3    0\n",
       "dtype: int64"
      ]
     },
     "execution_count": 52,
     "metadata": {},
     "output_type": "execute_result"
    }
   ],
   "source": [
    "ss2.isnull().sum()"
   ]
  },
  {
   "cell_type": "code",
   "execution_count": null,
   "metadata": {},
   "outputs": [],
   "source": []
  }
 ],
 "metadata": {
  "kernelspec": {
   "display_name": "Python 3",
   "language": "python",
   "name": "python3"
  },
  "language_info": {
   "codemirror_mode": {
    "name": "ipython",
    "version": 3
   },
   "file_extension": ".py",
   "mimetype": "text/x-python",
   "name": "python",
   "nbconvert_exporter": "python",
   "pygments_lexer": "ipython3",
   "version": "3.8.3"
  }
 },
 "nbformat": 4,
 "nbformat_minor": 4
}
