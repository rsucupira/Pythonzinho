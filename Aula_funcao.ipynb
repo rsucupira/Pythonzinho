{
 "cells": [
  {
   "cell_type": "markdown",
   "metadata": {},
   "source": [
    "# Funções Python\n",
    "\n",
    "Uma função é um bloco de código que só é executado quando é chamado.\n",
    "\n",
    "Você pode passar dados, conhecidos como parâmetros, para uma função.\n",
    "\n",
    "Uma função pode retornar dados como resultado."
   ]
  },
  {
   "cell_type": "markdown",
   "metadata": {},
   "source": [
    "Criação de uma função\n",
    "Em Python, uma função é definida usando a palavra-chave def :"
   ]
  },
  {
   "cell_type": "markdown",
   "metadata": {},
   "source": [
    "Exemplo"
   ]
  },
  {
   "cell_type": "code",
   "execution_count": null,
   "metadata": {},
   "outputs": [],
   "source": [
    "def my_function():\n",
    "  print(\"Hello from a function\")"
   ]
  },
  {
   "cell_type": "markdown",
   "metadata": {},
   "source": [
    "Chamando uma função\n",
    "Para chamar uma função, use o nome da função seguido por parênteses:"
   ]
  },
  {
   "cell_type": "markdown",
   "metadata": {},
   "source": [
    "Exemplo"
   ]
  },
  {
   "cell_type": "code",
   "execution_count": null,
   "metadata": {},
   "outputs": [],
   "source": [
    "def my_function():\n",
    "  print(\"Hello from a function\")\n",
    "\n",
    "my_function()"
   ]
  },
  {
   "cell_type": "markdown",
   "metadata": {},
   "source": [
    "Argumentos\n",
    "As informações podem ser passadas para funções como argumentos.\n",
    "\n",
    "Os argumentos são especificados após o nome da função, entre parênteses. Você pode adicionar quantos argumentos quiser, apenas separe-os com uma vírgula.\n",
    "\n",
    "O exemplo a seguir tem uma função com um argumento (fname). Quando a função é chamada, passamos um primeiro nome, que é usado dentro da função para imprimir o nome completo:"
   ]
  },
  {
   "cell_type": "markdown",
   "metadata": {},
   "source": [
    "Exemplo"
   ]
  },
  {
   "cell_type": "code",
   "execution_count": null,
   "metadata": {},
   "outputs": [],
   "source": [
    "def my_function(fname):\n",
    "  print(fname + \" Refsnes\")\n",
    "\n",
    "my_function(\"Emil\")\n",
    "my_function(\"Tobias\")\n",
    "my_function(\"Linus\")"
   ]
  },
  {
   "cell_type": "markdown",
   "metadata": {},
   "source": [
    "Parâmetros ou argumentos?\n",
    "Os termos parâmetro e argumento podem ser usados ​​para a mesma coisa: informações que são passadas para uma função."
   ]
  },
  {
   "cell_type": "markdown",
   "metadata": {},
   "source": [
    "Da perspectiva de uma função:\n",
    "\n",
    "Um parâmetro é a variável listada entre parênteses na definição da função.\n",
    "\n",
    "Um argumento é o valor enviado para a função quando ela é chamada."
   ]
  },
  {
   "cell_type": "markdown",
   "metadata": {},
   "source": [
    "Número de Argumentos\n",
    "Por padrão, uma função deve ser chamada com o número correto de argumentos. O que significa que se sua função espera 2 argumentos, você deve chamar a função com 2 argumentos, nem mais, nem menos.\n",
    "\n",
    "Exemplo"
   ]
  },
  {
   "cell_type": "code",
   "execution_count": null,
   "metadata": {},
   "outputs": [],
   "source": [
    "def my_function(fname, lname):\n",
    "  print(fname + \" \" + lname)\n",
    "\n",
    "my_function(\"Emil\", \"Refsnes\")"
   ]
  },
  {
   "cell_type": "markdown",
   "metadata": {},
   "source": [
    "Se você tentar chamar a função com 1 ou 3 argumentos, receberá um erro:"
   ]
  },
  {
   "cell_type": "markdown",
   "metadata": {},
   "source": [
    "Exemplo\n",
    "Esta função espera 2 argumentos, mas obtém apenas 1:"
   ]
  },
  {
   "cell_type": "code",
   "execution_count": null,
   "metadata": {},
   "outputs": [],
   "source": [
    "def my_function(fname, lname):\n",
    "  print(fname + \" \" + lname)\n",
    "\n",
    "my_function(\"Emil\")"
   ]
  },
  {
   "cell_type": "markdown",
   "metadata": {},
   "source": [
    "Argumentos arbitrários, * args\n",
    "Se você não sabe quantos argumentos serão passados ​​para sua função, adicione um *antes do nome do parâmetro na definição da função.\n",
    "\n",
    "Dessa forma, a função receberá uma tupla de argumentos e poderá acessar os itens de acordo:"
   ]
  },
  {
   "cell_type": "markdown",
   "metadata": {},
   "source": [
    "Exemplo\n",
    "Se o número de argumentos for desconhecido, adicione um *antes do nome do parâmetro:"
   ]
  },
  {
   "cell_type": "code",
   "execution_count": null,
   "metadata": {},
   "outputs": [],
   "source": [
    "def my_function(*kids):\n",
    "  print(\"The youngest child is \" + kids[2])\n",
    "\n",
    "my_function(\"Emil\", \"Tobias\", \"Linus\")"
   ]
  },
  {
   "cell_type": "markdown",
   "metadata": {},
   "source": [
    "Argumentos de Palavras-Chave\n",
    "Você também pode enviar argumentos com a sintaxe chave = valor .\n",
    "\n",
    "Dessa forma, a ordem dos argumentos não importa."
   ]
  },
  {
   "cell_type": "markdown",
   "metadata": {},
   "source": [
    "Exemplo"
   ]
  },
  {
   "cell_type": "code",
   "execution_count": null,
   "metadata": {},
   "outputs": [],
   "source": [
    "def my_function(child3, child2, child1):\n",
    "  print(\"The youngest child is \" + child3)\n",
    "\n",
    "my_function(child1 = \"Emil\", child2 = \"Tobias\", child3 = \"Linus\")"
   ]
  },
  {
   "cell_type": "markdown",
   "metadata": {},
   "source": [
    "A frase Argumentos de palavra- chave costuma ser abreviada para kwargs nas documentações do Python."
   ]
  },
  {
   "cell_type": "markdown",
   "metadata": {},
   "source": [
    "Argumentos de palavras-chave arbitrárias, ** kwargs\n",
    "Se você não souber quantos argumentos de palavra-chave serão passados ​​para sua função, adicione dois asteriscos: **antes do nome do parâmetro na definição da função.\n",
    "\n",
    "Dessa forma, a função receberá um dicionário de argumentos, e poderá acessar os itens de acordo:"
   ]
  },
  {
   "cell_type": "markdown",
   "metadata": {},
   "source": [
    "Exemplo\n",
    "Se o número de argumentos de palavra-chave for desconhecido, adicione um duplo **antes do nome do parâmetro:"
   ]
  },
  {
   "cell_type": "code",
   "execution_count": null,
   "metadata": {},
   "outputs": [],
   "source": [
    "def my_function(**kid):\n",
    "  print(\"His last name is \" + kid[\"lname\"])\n",
    "\n",
    "my_function(fname = \"Tobias\", lname = \"Refsnes\")"
   ]
  },
  {
   "cell_type": "markdown",
   "metadata": {},
   "source": [
    "Argumentos arbitrários de Kword geralmente são abreviados para ** kwargs nas documentações do Python."
   ]
  },
  {
   "cell_type": "markdown",
   "metadata": {},
   "source": [
    "Valor do parâmetro padrão\n",
    "O exemplo a seguir mostra como usar um valor de parâmetro padrão.\n",
    "\n",
    "Se chamarmos a função sem argumento, ela usará o valor padrão:"
   ]
  },
  {
   "cell_type": "code",
   "execution_count": null,
   "metadata": {},
   "outputs": [],
   "source": [
    "def my_function(country = \"Norway\"):\n",
    "  print(\"I am from \" + country)\n",
    "\n",
    "my_function(\"Sweden\")\n",
    "my_function(\"India\")\n",
    "my_function()\n",
    "my_function(\"Brazil\")"
   ]
  },
  {
   "cell_type": "markdown",
   "metadata": {},
   "source": [
    "Passando uma lista como um argumento\n",
    "Você pode enviar qualquer tipo de dado de argumento para uma função (string, número, lista, dicionário, etc.), e ele será tratado como o mesmo tipo de dado dentro da função.\n",
    "\n",
    "Por exemplo, se você enviar uma Lista como um argumento, ela ainda será uma Lista quando atingir a função:"
   ]
  },
  {
   "cell_type": "markdown",
   "metadata": {},
   "source": [
    "Exemplo"
   ]
  },
  {
   "cell_type": "code",
   "execution_count": null,
   "metadata": {},
   "outputs": [],
   "source": [
    "def my_function(food):\n",
    "  for x in food:\n",
    "    print(x)\n",
    "\n",
    "fruits = [\"apple\", \"banana\", \"cherry\"]\n",
    "\n",
    "my_function(fruits)"
   ]
  },
  {
   "cell_type": "markdown",
   "metadata": {},
   "source": [
    "Valores Retornados\n",
    "Para permitir que uma função retorne um valor, use a return instrução:"
   ]
  },
  {
   "cell_type": "code",
   "execution_count": null,
   "metadata": {},
   "outputs": [],
   "source": [
    "def my_function(x):\n",
    "  return 5 * x\n",
    "\n",
    "print(my_function(3))\n",
    "print(my_function(5))\n",
    "print(my_function(9))"
   ]
  },
  {
   "cell_type": "markdown",
   "metadata": {},
   "source": [
    "A declaração de passagem\n",
    "functionas definições não podem estar vazias, mas se por algum motivo você tiver uma functiondefinição sem conteúdo, coloque a passinstrução para evitar um erro."
   ]
  },
  {
   "cell_type": "code",
   "execution_count": null,
   "metadata": {},
   "outputs": [],
   "source": [
    "def myfunction():\n",
    "  pass"
   ]
  },
  {
   "cell_type": "markdown",
   "metadata": {},
   "source": [
    "Recursão\n",
    "Python também aceita recursão de função, o que significa que uma função definida pode chamar a si mesma.\n",
    "\n",
    "A recursão é um conceito matemático e de programação comum. Isso significa que uma função chama a si mesma. Isso tem a vantagem de significar que você pode percorrer os dados para chegar a um resultado.\n",
    "\n",
    "O desenvolvedor deve ter muito cuidado com a recursão, pois pode ser muito fácil escorregar e escrever uma função que nunca termina, ou uma que usa quantidades excessivas de memória ou potência do processador. No entanto, quando escrito corretamente, a recursão pode ser uma abordagem de programação muito eficiente e matematicamente elegante.\n",
    "\n",
    "Neste exemplo, tri_recursion () é uma função que definimos para se chamar (\"recurse\"). Usamos a variável k como os dados, que diminui ( -1 ) toda vez que recursamos. A recursão termina quando a condição não for maior que 0 (ou seja, quando for 0).\n",
    "\n",
    "Para um novo desenvolvedor, pode levar algum tempo para descobrir como isso funciona exatamente; a melhor maneira de descobrir é testando e modificando."
   ]
  },
  {
   "cell_type": "markdown",
   "metadata": {},
   "source": [
    "Exemplo\n",
    "Exemplo de recursão"
   ]
  },
  {
   "cell_type": "code",
   "execution_count": null,
   "metadata": {},
   "outputs": [],
   "source": [
    "def tri_recursion(k):\n",
    "  if(k > 0):\n",
    "    result = k + tri_recursion(k - 1)\n",
    "    print(result)\n",
    "  else:\n",
    "    result = 0\n",
    "  return result\n",
    "\n",
    "print(\"\\n\\nRecursion Example Results\")\n",
    "tri_recursion(6)"
   ]
  },
  {
   "cell_type": "code",
   "execution_count": null,
   "metadata": {},
   "outputs": [],
   "source": []
  },
  {
   "cell_type": "code",
   "execution_count": null,
   "metadata": {},
   "outputs": [],
   "source": []
  }
 ],
 "metadata": {
  "kernelspec": {
   "display_name": "Python 3",
   "language": "python",
   "name": "python3"
  },
  "language_info": {
   "codemirror_mode": {
    "name": "ipython",
    "version": 3
   },
   "file_extension": ".py",
   "mimetype": "text/x-python",
   "name": "python",
   "nbconvert_exporter": "python",
   "pygments_lexer": "ipython3",
   "version": "3.7.4"
  }
 },
 "nbformat": 4,
 "nbformat_minor": 2
}
