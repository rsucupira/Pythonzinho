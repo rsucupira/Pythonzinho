{
  "nbformat": 4,
  "nbformat_minor": 0,
  "metadata": {
    "colab": {
      "name": "Tira_duvidas_31102020.ipynb",
      "provenance": []
    },
    "kernelspec": {
      "name": "python3",
      "display_name": "Python 3"
    }
  },
  "cells": [
    {
      "cell_type": "code",
      "metadata": {
        "id": "ktbTSVCn-470"
      },
      "source": [
        "def minha_funcao():\n",
        "  print('minha funcao - teste')\n"
      ],
      "execution_count": 1,
      "outputs": []
    },
    {
      "cell_type": "code",
      "metadata": {
        "id": "Agve1fS8AU-B",
        "outputId": "108766d5-f5ca-449a-c2ff-380ab961df85",
        "colab": {
          "base_uri": "https://localhost:8080/"
        }
      },
      "source": [
        "minha_funcao()"
      ],
      "execution_count": 2,
      "outputs": [
        {
          "output_type": "stream",
          "text": [
            "minha funcao - teste\n"
          ],
          "name": "stdout"
        }
      ]
    },
    {
      "cell_type": "code",
      "metadata": {
        "id": "C4YnmJeMAbgZ"
      },
      "source": [
        "0 1 1 2 3 5 8 13 21 "
      ],
      "execution_count": null,
      "outputs": []
    },
    {
      "cell_type": "code",
      "metadata": {
        "id": "QfjYqLCyBTQx",
        "outputId": "409030bd-040a-429d-fd44-a9c2a0046ebb",
        "colab": {
          "base_uri": "https://localhost:8080/"
        }
      },
      "source": [
        "def tri_recursion(k):\n",
        "  if(k == 2):\n",
        "    result = 2\n",
        "  elif k> 2: \n",
        "    result = k + tri_recursion(k - 1)\n",
        "    #print(result)\n",
        "  else:\n",
        "    result = 0\n",
        "  return result\n",
        "\n",
        "print(\"\\n\\nRecursion Example Results\")"
      ],
      "execution_count": 11,
      "outputs": [
        {
          "output_type": "stream",
          "text": [
            "\n",
            "\n",
            "Recursion Example Results\n"
          ],
          "name": "stdout"
        }
      ]
    },
    {
      "cell_type": "code",
      "metadata": {
        "id": "h1z6mauqBYOp",
        "outputId": "9d086af9-cbf3-4ecf-f155-13fd5f0b9175",
        "colab": {
          "base_uri": "https://localhost:8080/"
        }
      },
      "source": [
        "tri_recursion(3)"
      ],
      "execution_count": 13,
      "outputs": [
        {
          "output_type": "execute_result",
          "data": {
            "text/plain": [
              "5"
            ]
          },
          "metadata": {
            "tags": []
          },
          "execution_count": 13
        }
      ]
    },
    {
      "cell_type": "code",
      "metadata": {
        "id": "ZVYrtOS2CsUe"
      },
      "source": [
        "def recur_fibo(n):\n",
        "   if n <= 1:\n",
        "     print(n)\n",
        "     return n\n",
        "   else:\n",
        "       return(recur_fibo(n-1) + recur_fibo(n-2))"
      ],
      "execution_count": 35,
      "outputs": []
    },
    {
      "cell_type": "code",
      "metadata": {
        "id": "Qb63t_fBC0HK",
        "outputId": "85e9b214-d6cc-4342-9235-fda8ffe83c10",
        "colab": {
          "base_uri": "https://localhost:8080/"
        }
      },
      "source": [
        "recur_fibo(0),recur_fibo(1),recur_fibo(2),recur_fibo(3),recur_fibo(4),recur_fibo(5),recur_fibo(6)"
      ],
      "execution_count": 24,
      "outputs": [
        {
          "output_type": "execute_result",
          "data": {
            "text/plain": [
              "(0, 1, 1, 2, 3, 5, 8)"
            ]
          },
          "metadata": {
            "tags": []
          },
          "execution_count": 24
        }
      ]
    },
    {
      "cell_type": "code",
      "metadata": {
        "id": "gKwGWovKFF62",
        "outputId": "6b79f06c-973e-4a35-91ec-4b47c53b4324",
        "colab": {
          "base_uri": "https://localhost:8080/"
        }
      },
      "source": [
        "recur_fibo(6)"
      ],
      "execution_count": 36,
      "outputs": [
        {
          "output_type": "stream",
          "text": [
            "1\n",
            "0\n",
            "1\n",
            "1\n",
            "0\n",
            "1\n",
            "0\n",
            "1\n",
            "1\n",
            "0\n",
            "1\n",
            "1\n",
            "0\n"
          ],
          "name": "stdout"
        },
        {
          "output_type": "execute_result",
          "data": {
            "text/plain": [
              "8"
            ]
          },
          "metadata": {
            "tags": []
          },
          "execution_count": 36
        }
      ]
    },
    {
      "cell_type": "code",
      "metadata": {
        "id": "LMsCILmeHaHH"
      },
      "source": [
        ""
      ],
      "execution_count": null,
      "outputs": []
    },
    {
      "cell_type": "code",
      "metadata": {
        "id": "i7Qh0rjQD6Ea"
      },
      "source": [
        "def funcao_bolo(massa, ovo):\n",
        "  massa.replace('a','A')\n",
        "  massa = massa.replace('e','E')\n",
        "  print('MASSA:',massa,'ovo:',ovo)\n"
      ],
      "execution_count": 68,
      "outputs": []
    },
    {
      "cell_type": "code",
      "metadata": {
        "id": "fGHINCJpEEiD",
        "outputId": "1b7a5ad8-a9fa-4a88-d82c-baffec397ea0",
        "colab": {
          "base_uri": "https://localhost:8080/"
        }
      },
      "source": [
        "funcao_bolo('integral','grande')"
      ],
      "execution_count": 70,
      "outputs": [
        {
          "output_type": "stream",
          "text": [
            "MASSA: intEgral ovo: grande\n"
          ],
          "name": "stdout"
        }
      ]
    },
    {
      "cell_type": "code",
      "metadata": {
        "id": "qHCPoFZmH60S",
        "outputId": "36f567e1-deb4-42ab-9aac-d8c95fc490d2",
        "colab": {
          "base_uri": "https://localhost:8080/"
        }
      },
      "source": [
        "print(massa_01)"
      ],
      "execution_count": 64,
      "outputs": [
        {
          "output_type": "stream",
          "text": [
            "integral\n"
          ],
          "name": "stdout"
        }
      ]
    },
    {
      "cell_type": "code",
      "metadata": {
        "id": "QDUibc7CJmQr"
      },
      "source": [
        "def contagem(input):\n",
        "  cont = 1\n",
        "  for i in input:\n",
        "    cont = cont + 2\n",
        "  return cont"
      ],
      "execution_count": 76,
      "outputs": []
    },
    {
      "cell_type": "code",
      "metadata": {
        "id": "Vs17S9Z_J671"
      },
      "source": [
        "lista = [2,3,6,7,8,4]"
      ],
      "execution_count": 99,
      "outputs": []
    },
    {
      "cell_type": "code",
      "metadata": {
        "id": "_ETtA7K9J8GP",
        "outputId": "de259b93-1ded-4dc5-fb3e-e0369cb53ca0",
        "colab": {
          "base_uri": "https://localhost:8080/"
        }
      },
      "source": [
        "contagem(lista)"
      ],
      "execution_count": 77,
      "outputs": [
        {
          "output_type": "execute_result",
          "data": {
            "text/plain": [
              "13"
            ]
          },
          "metadata": {
            "tags": []
          },
          "execution_count": 77
        }
      ]
    },
    {
      "cell_type": "code",
      "metadata": {
        "id": "ZyLIm5j-KhOh"
      },
      "source": [
        "def media(input):\n",
        "  cont = 0\n",
        "  soma = 0\n",
        "  for numero in input:\n",
        "    cont = cont + 1\n",
        "    soma = soma + numero\n",
        "  return soma/cont"
      ],
      "execution_count": 88,
      "outputs": []
    },
    {
      "cell_type": "code",
      "metadata": {
        "id": "BwWmrM3EK-FZ",
        "outputId": "a5ff4d82-5612-414d-b244-8ff398680bd8",
        "colab": {
          "base_uri": "https://localhost:8080/"
        }
      },
      "source": [
        "media(lista)"
      ],
      "execution_count": 89,
      "outputs": [
        {
          "output_type": "execute_result",
          "data": {
            "text/plain": [
              "5.0"
            ]
          },
          "metadata": {
            "tags": []
          },
          "execution_count": 89
        }
      ]
    },
    {
      "cell_type": "code",
      "metadata": {
        "id": "AT-7enr8Nekc",
        "outputId": "937b092f-22c4-4e65-ea90-dfb8866730d1",
        "colab": {
          "base_uri": "https://localhost:8080/"
        }
      },
      "source": [
        "del lista[0]"
      ],
      "execution_count": 105,
      "outputs": [
        {
          "output_type": "execute_result",
          "data": {
            "text/plain": [
              "[10, 7, 8, 4]"
            ]
          },
          "metadata": {
            "tags": []
          },
          "execution_count": 105
        }
      ]
    },
    {
      "cell_type": "code",
      "metadata": {
        "id": "lH8UyTpiNgoq"
      },
      "source": [
        "lista[0] = 10"
      ],
      "execution_count": 104,
      "outputs": []
    }
  ]
}