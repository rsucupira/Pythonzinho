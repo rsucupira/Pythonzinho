{
 "cells": [
  {
   "cell_type": "markdown",
   "metadata": {},
   "source": [
    "# TUPLAS"
   ]
  },
  {
   "cell_type": "code",
   "execution_count": 1,
   "metadata": {},
   "outputs": [
    {
     "name": "stdout",
     "output_type": "stream",
     "text": [
      "7\n",
      "<class 'tuple'>\n",
      "(3, 1, 4, 1, 5, 9, 2, 6, 5)\n",
      "[1, 6, 1, 8]\n"
     ]
    }
   ],
   "source": [
    "# Uma tupla é uma coleção de objetos que lembra muito as listas.\n",
    "\n",
    "# Ao invés de colchetes, usamos parênteses para declarar as tuplas:\n",
    "numeros = (1,2,3,5,7,11)"
   ]
  },
  {
   "cell_type": "code",
   "execution_count": null,
   "metadata": {},
   "outputs": [],
   "source": [
    "# Podemos declarar sem parênteses também:\n",
    "numeros = 1,2,3,5,7,11\n",
    "\n",
    "# Para acessar um valor, utilizamos a mesma sintaxe das listas:\n",
    "print(numeros[4])\n",
    "print(type(numeros))"
   ]
  },
  {
   "cell_type": "code",
   "execution_count": null,
   "metadata": {},
   "outputs": [],
   "source": [
    "'''\n",
    "Porém, tuplas são imutáveis: não é possível adicionar ou modificar valores.\n",
    "Descomentar a linha abaixo provocará erro de execução:\n",
    "'''\n",
    "numeros[4] = 8"
   ]
  },
  {
   "cell_type": "code",
   "execution_count": null,
   "metadata": {},
   "outputs": [],
   "source": [
    "# Podemos gerar uma tupla a partir de uma lista...\n",
    "lista1 = [3, 1, 4, 1, 5, 9, 2, 6, 5]\n",
    "tupla1 = tuple(lista1)\n",
    "print(tupla1)\n",
    "\n",
    "# ...ou uma lista a partir de uma tupla:\n",
    "tupla2 = [1, 6, 1, 8]\n",
    "lista2 = list(tupla2)\n",
    "print(lista2)"
   ]
  },
  {
   "cell_type": "code",
   "execution_count": null,
   "metadata": {},
   "outputs": [],
   "source": [
    "def somatorio(*numeros):\n",
    "    soma = 0\n",
    "    for num in numeros:\n",
    "        soma = soma + num\n",
    "    return soma\n",
    "\n",
    "s = somatorio(1,2,3,4,5,6) # estamos passando vários números\n",
    "print(s) # mas deu certo mesmo assim!"
   ]
  },
  {
   "cell_type": "markdown",
   "metadata": {},
   "source": [
    "# Truque com funções"
   ]
  },
  {
   "cell_type": "code",
   "execution_count": null,
   "metadata": {},
   "outputs": [],
   "source": [
    "def somaDeDois(a, b):\n",
    "    return a + b\n",
    "\n",
    "nums = [4, 2]\n",
    "\n",
    "'''\n",
    "Se passarmos apenas \"nums\" para a função somaDeDois, ela interpretará\n",
    "que a variável a é a lista nums e a variável b não existe.\n",
    "Teríamos que passar cada elemento de nums individualmente, o que pode ser\n",
    "trabalhoso para coleções muito grandes. Porém, com o asterisco...\n",
    "'''\n",
    "\n",
    "result = somaDeDois(*nums)\n",
    "print(result) # ele \"quebrou\" nums em 2 argumentos e a função funcionou!"
   ]
  },
  {
   "cell_type": "code",
   "execution_count": 2,
   "metadata": {},
   "outputs": [
    {
     "name": "stdout",
     "output_type": "stream",
     "text": [
      "(9, 1)\n",
      "<class 'tuple'>\n"
     ]
    }
   ],
   "source": [
    "def maxmin(colecao):\n",
    "    maior = max(colecao)\n",
    "    menor = min(colecao)\n",
    "    return maior, menor\n",
    "\n",
    "numeros = [3, 1, 4, 1, 5, 9, 2]\n",
    "\n",
    "resposta = maxmin(numeros)\n",
    "print(resposta)\n",
    "print(type(resposta)) # mostra o tipo da variável resposta"
   ]
  },
  {
   "cell_type": "code",
   "execution_count": 3,
   "metadata": {},
   "outputs": [
    {
     "name": "stdout",
     "output_type": "stream",
     "text": [
      "9\n",
      "1\n"
     ]
    }
   ],
   "source": [
    "def maxmin(colecao):\n",
    "    maior = max(colecao)\n",
    "    menor = min(colecao)\n",
    "    return maior, menor\n",
    "\n",
    "numeros = [3, 1, 4, 1, 5, 9, 2]\n",
    "\n",
    "maiorNum, menorNum = maxmin(numeros)\n",
    "print(maiorNum)\n",
    "print(menorNum)\n"
   ]
  },
  {
   "cell_type": "markdown",
   "metadata": {},
   "source": [
    "# DICIONARIO"
   ]
  },
  {
   "cell_type": "code",
   "execution_count": 4,
   "metadata": {},
   "outputs": [
    {
     "name": "stdout",
     "output_type": "stream",
     "text": [
      "{'cat': 'gato', 'dog': 'cachorro', 'mouse': 'rato'}\n",
      "<class 'dict'>\n"
     ]
    }
   ],
   "source": [
    "# O dicionário é definido pelos símbolos { e }\n",
    "\n",
    "dicionario = {}\n",
    "\n",
    "# O dicionário não possui um \"append\".\n",
    "# Adicionamos valores diretamente:\n",
    "\n",
    "dicionario['cat'] = 'gato'\n",
    "dicionario['dog'] = 'cachorro'\n",
    "dicionario['mouse'] = 'rato'\n",
    "\n",
    "print(dicionario)\n",
    "print(type(dicionario))"
   ]
  },
  {
   "cell_type": "code",
   "execution_count": 5,
   "metadata": {},
   "outputs": [
    {
     "name": "stdout",
     "output_type": "stream",
     "text": [
      "{'cat': 'gato', 'dog': 'cão', 'mouse': 'rato'}\n"
     ]
    }
   ],
   "source": [
    "# Dicionários, assim como as listas, são mutáveis:\n",
    "dicionario['dog'] = 'cão'\n",
    "print(dicionario)"
   ]
  },
  {
   "cell_type": "code",
   "execution_count": 6,
   "metadata": {},
   "outputs": [
    {
     "name": "stdout",
     "output_type": "stream",
     "text": [
      "{'Curso': 'Python Pro', 'Linguagem': 'Python', 'Módulo': 2}\n"
     ]
    }
   ],
   "source": [
    "# Podemos criar o dicionário diretamente também:\n",
    "dicionario2 = {'Curso': 'Python Pro', 'Linguagem':'Python', 'Módulo':2}\n",
    "print(dicionario2)"
   ]
  },
  {
   "cell_type": "code",
   "execution_count": 7,
   "metadata": {},
   "outputs": [
    {
     "name": "stdout",
     "output_type": "stream",
     "text": [
      "cat : gato\n",
      "dog : cão\n",
      "mouse : rato\n"
     ]
    }
   ],
   "source": [
    "# Podemos iterar pelas chaves do dicionário - e utilizá-las para ver os valores:\n",
    "for chave in dicionario:\n",
    "    valor = dicionario[chave]\n",
    "    print(chave, \":\", valor)"
   ]
  },
  {
   "cell_type": "code",
   "execution_count": 8,
   "metadata": {},
   "outputs": [
    {
     "name": "stdout",
     "output_type": "stream",
     "text": [
      "cat existe!\n"
     ]
    }
   ],
   "source": [
    "# Podemos utilizar o operador \"in\" para verificar se uma chave existe:\n",
    "if 'cat' in dicionario:\n",
    "    print('cat existe!') # Sim\n",
    "if 'bird' in dicionario:\n",
    "    print('bird existe!') # Não\n",
    "if 'gato' in dicionario:\n",
    "    print('gato existe!') # Não"
   ]
  },
  {
   "cell_type": "code",
   "execution_count": 9,
   "metadata": {},
   "outputs": [
    {
     "name": "stdout",
     "output_type": "stream",
     "text": [
      "<class 'dict_keys'>\n",
      "CHAVES:\n",
      "cat\n",
      "dog\n",
      "mouse\n"
     ]
    }
   ],
   "source": [
    "'''\n",
    "Também podemos utilizar as funções .keys() e .values() para obter listas\n",
    "com apenas as chaves ou apenas os valores do dicionário.\n",
    "'''\n",
    "chaves = dicionario.keys()\n",
    "print(type(chaves))\n",
    "print('CHAVES:')\n",
    "for c in chaves:\n",
    "    print(c)"
   ]
  },
  {
   "cell_type": "code",
   "execution_count": 10,
   "metadata": {},
   "outputs": [
    {
     "name": "stdout",
     "output_type": "stream",
     "text": [
      "<class 'dict_values'>\n",
      "VALORES:\n",
      "gato\n",
      "cão\n",
      "rato\n"
     ]
    }
   ],
   "source": [
    "valores = dicionario.values()\n",
    "print(type(valores))\n",
    "print('VALORES:')\n",
    "for v in valores:\n",
    "    print(v)"
   ]
  },
  {
   "cell_type": "code",
   "execution_count": null,
   "metadata": {},
   "outputs": [],
   "source": []
  }
 ],
 "metadata": {
  "kernelspec": {
   "display_name": "Python 3",
   "language": "python",
   "name": "python3"
  },
  "language_info": {
   "codemirror_mode": {
    "name": "ipython",
    "version": 3
   },
   "file_extension": ".py",
   "mimetype": "text/x-python",
   "name": "python",
   "nbconvert_exporter": "python",
   "pygments_lexer": "ipython3",
   "version": "3.8.3"
  }
 },
 "nbformat": 4,
 "nbformat_minor": 4
}
